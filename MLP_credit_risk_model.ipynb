{
 "cells": [
  {
   "cell_type": "code",
   "execution_count": 6,
   "id": "e673a7b7",
   "metadata": {},
   "outputs": [],
   "source": [
    "# Bibliotecas Gerais:\n",
    "\n",
    "import pandas as pd\n",
    "from pandas.api.types import CategoricalDtype\n",
    "import matplotlib.pyplot as plt\n",
    "#import plotly.graph_objects as go > err\n",
    "import seaborn as sns\n",
    "import numpy as np\n",
    "import warnings\n",
    "warnings.filterwarnings('ignore')\n",
    "#import graphviz > err\n",
    "#from graphviz import Source > err\n",
    "from IPython.display import SVG\n",
    "from tqdm import tqdm_notebook as tqdm\n",
    "\n",
    "# ML:\n",
    "\n",
    "from sklearn.linear_model import LogisticRegression\n",
    "from sklearn import tree\n",
    "#from sklearn.tree.export import export_text > err\n",
    "from sklearn.neural_network import MLPClassifier\n",
    "from sklearn.model_selection import GridSearchCV\n",
    "from sklearn.model_selection import train_test_split, cross_val_score\n",
    "from sklearn.preprocessing import StandardScaler\n",
    "\n",
    "# Métrica de Performance:\n",
    "\n",
    "from sklearn import metrics\n",
    "from sklearn.metrics import f1_score,confusion_matrix, mean_squared_error, mean_absolute_error, classification_report, roc_auc_score, roc_curve, precision_score, recall_score"
   ]
  },
  {
   "cell_type": "code",
   "execution_count": 7,
   "id": "96b5f0d1",
   "metadata": {},
   "outputs": [
    {
     "name": "stdout",
     "output_type": "stream",
     "text": [
      "ID           int64\n",
      "LIMIT_BAL    int64\n",
      "SEX          int64\n",
      "EDUCATION    int64\n",
      "MARRIAGE     int64\n",
      "AGE          int64\n",
      "PAY_1        int64\n",
      "PAY_2        int64\n",
      "PAY_3        int64\n",
      "PAY_4        int64\n",
      "PAY_5        int64\n",
      "PAY_6        int64\n",
      "BILL_AMT1    int64\n",
      "BILL_AMT2    int64\n",
      "BILL_AMT3    int64\n",
      "BILL_AMT4    int64\n",
      "BILL_AMT5    int64\n",
      "BILL_AMT6    int64\n",
      "PAY_AMT1     int64\n",
      "PAY_AMT2     int64\n",
      "PAY_AMT3     int64\n",
      "PAY_AMT4     int64\n",
      "PAY_AMT5     int64\n",
      "PAY_AMT6     int64\n",
      "dpnm         int64\n",
      "dtype: object\n"
     ]
    },
    {
     "data": {
      "text/plain": [
       "750000"
      ]
     },
     "execution_count": 7,
     "metadata": {},
     "output_type": "execute_result"
    }
   ],
   "source": [
    "#Carregando os dados:\n",
    "\n",
    "data=pd.read_csv(r'C:\\Users\\felip\\OneDrive\\Área de Trabalho\\MBA_DATA_SCIENCE_ANALYTICS\\TCC\\Final\\Code\\input\\default of credit card clients.csv')\n",
    "\n",
    "# Informações Gerais:\n",
    "\n",
    "print(data.dtypes)\n",
    "\n",
    "data.size"
   ]
  },
  {
   "cell_type": "code",
   "execution_count": 8,
   "id": "75a1efea",
   "metadata": {},
   "outputs": [
    {
     "name": "stdout",
     "output_type": "stream",
     "text": [
      "Existem 0 células nulas no dataset.\n"
     ]
    }
   ],
   "source": [
    "# Data Prep:\n",
    "\n",
    "# Droppa \"ID\":\n",
    "data=data.drop(['ID'], axis=1)\n",
    "\n",
    "#Remove Duplicatas:\n",
    "data=data.drop_duplicates()\n",
    "\n",
    "#Checa por nulos:\n",
    "print(f\"Existem {data.isna().any().sum()} células nulas no dataset.\")"
   ]
  },
  {
   "cell_type": "code",
   "execution_count": 9,
   "id": "018911a2",
   "metadata": {},
   "outputs": [],
   "source": [
    "# Pré- Processamento:\n",
    "\n",
    "# Separando colunas de atributos e classes:\n",
    "X=data[data.columns[:-1]]\n",
    "y=data['dpnm']\n",
    "\n",
    "# Separando as bases de treino e teste:\n",
    "X_train, X_test, y_train, y_test = train_test_split(X, y, test_size=0.25, random_state=25)\n",
    "##### ALTERAAAAR O RANDOM_STATE PARA COMPARAR, FUNCIONA COMO SE FOSSE O SET.SEED do R.\n",
    "\n",
    "# Normalização:\n",
    "scaler = StandardScaler()\n",
    "scaler.fit(X_train)\n",
    "X_train = scaler.fit_transform(X_train)\n",
    "X_test = scaler.transform(X_test)"
   ]
  },
  {
   "cell_type": "code",
   "execution_count": 10,
   "id": "84c4298e",
   "metadata": {},
   "outputs": [
    {
     "data": {
      "text/plain": [
       "MLPClassifier(hidden_layer_sizes=(1, 1), max_iter=1000, random_state=25)"
      ]
     },
     "execution_count": 10,
     "metadata": {},
     "output_type": "execute_result"
    }
   ],
   "source": [
    "# Modelagem:\n",
    "\n",
    "# Rede Neural:\n",
    "\n",
    "# Inicializando o classificador Perceptron Multi-camada:\n",
    "mlp = MLPClassifier(hidden_layer_sizes=(1,1),max_iter=1000, random_state=25,shuffle=True, verbose=False)\n",
    "##### ALTERAAAAR O RANDOM_STATE PARA COMPARAR, FUNCIONA COMO SE FOSSE O SET.SEED do R.\n",
    "\n",
    "# Treinando o classificador:\n",
    "mlp.fit(X_train, y_train)"
   ]
  },
  {
   "cell_type": "code",
   "execution_count": 11,
   "id": "ab96af93",
   "metadata": {},
   "outputs": [],
   "source": [
    "# Fazendo predições:.\n",
    "mlp_pred = mlp.predict(X_test)\n",
    "\n",
    "# CV Score:\n",
    "mlp_cv=cross_val_score(mlp, X_train, y_train, cv=10).mean()"
   ]
  },
  {
   "cell_type": "code",
   "execution_count": 12,
   "id": "68bb28c3",
   "metadata": {},
   "outputs": [
    {
     "name": "stdout",
     "output_type": "stream",
     "text": [
      "Accuracy: 0.812\n",
      "Cross-validation accuracy: 0.811\n",
      "Precision: 0.713\n",
      "Recall: 0.252\n",
      "F1 score: 0.373\n",
      "specificity: 0.9712131596984236\n"
     ]
    },
    {
     "data": {
      "image/png": "[encoded data removed]",
      "text/plain": [
       "<Figure size 576x576 with 1 Axes>"
      ]
     },
     "metadata": {},
     "output_type": "display_data"
    }
   ],
   "source": [
    "#Métricas de Performance:\n",
    "\n",
    "# Accuracy: 1 is perfect prediction.\n",
    "print('Accuracy: %.3f' % mlp.score(X_test, y_test))\n",
    "\n",
    "# Cross-Validation accuracy\n",
    "print('Cross-validation accuracy: %0.3f' % mlp_cv)\n",
    "\n",
    "# Precision\n",
    "print('Precision: %.3f' % precision_score(y_test, mlp_pred))\n",
    "\n",
    "# Recall (Sensitividade)\n",
    "print('Recall: %.3f' % recall_score(y_test, mlp_pred))\n",
    "\n",
    "# f1 score: best value at 1 (perfect precision and recall) and worst at 0.\n",
    "print('F1 score: %.3f' % f1_score(y_test, mlp_pred))\n",
    "\n",
    "# Plota a matriz de confusão:\n",
    "matrix = confusion_matrix(y_test,mlp_pred)\n",
    "sns.set(font_scale=1.3)\n",
    "plt.subplots(figsize=(8, 8))\n",
    "sns.heatmap(matrix,annot=True, cbar=False, cmap='twilight',linewidth=0.5,fmt=\"d\")\n",
    "plt.ylabel('True Label')\n",
    "plt.xlabel('Predicted Label')\n",
    "plt.title('Confusion Matrix for MLP');\n",
    "\n",
    "#Especificidade:\n",
    "specificity = matrix[0,0]/(matrix[0,1]+matrix[0,0])\n",
    "print(f\"specificity: {specificity}\")"
   ]
  },
  {
   "cell_type": "code",
   "execution_count": 13,
   "id": "feed7f1d",
   "metadata": {},
   "outputs": [
    {
     "name": "stdout",
     "output_type": "stream",
     "text": [
      "AUC: 0.72\n"
     ]
    }
   ],
   "source": [
    "# Predizendo probabilidades à base de teste:\n",
    "mlp_probs = mlp.predict_proba(X_test)\n",
    "\n",
    "# Keep probabilities of the positive class only.\n",
    "mlp_probs = mlp_probs[:, 1]\n",
    "\n",
    "# Calculando o AUC:\n",
    "auc_mlp = roc_auc_score(y_test, mlp_probs)\n",
    "print('AUC: %.2f' % auc_mlp)"
   ]
  },
  {
   "cell_type": "code",
   "execution_count": 14,
   "id": "67575d3b",
   "metadata": {},
   "outputs": [
    {
     "name": "stdout",
     "output_type": "stream",
     "text": [
      "Fitting 10 folds for each of 4 candidates, totalling 40 fits\n",
      "Best MLP Parameters: {'hidden_layer_sizes': (12, 5, 2), 'max_iter': 1000, 'random_state': 25, 'shuffle': True, 'verbose': False}\n",
      "Cross-validation accuracy: 0.820\n",
      "Accuracy: 0.820\n",
      "Precision: 0.674\n",
      "Recall: 0.357\n",
      "F1 score: 0.467\n"
     ]
    }
   ],
   "source": [
    "# Grid Search para a Rede Neural:\n",
    "\n",
    "# Hiperparâmetros a serem checados:\n",
    "parameters = {'shuffle':[True],\n",
    "              'verbose':[False],\n",
    "              'random_state': [25],\n",
    "              'max_iter':[1000],\n",
    "              'hidden_layer_sizes':[(11,5),(12,6),(12,5,2),(3)]}\n",
    "\n",
    "# Estimador de Árvore de Decisão:\n",
    "default_mlp = MLPClassifier(random_state=42)\n",
    "\n",
    "# Estimador GridSearchCV:.\n",
    "gs_mlp = GridSearchCV(default_mlp, parameters, cv=10, n_jobs=-1,verbose=10)\n",
    "\n",
    "# Treino o Estimador GridSeacrhCV para encontrador os melhores parâmetros:\n",
    "gs_mlp.fit(X_train,y_train)\n",
    "\n",
    "# Realiza predições com os melhores parâmetros:\n",
    "gs_mlp_pred=gs_mlp.predict(X_test)\n",
    "\n",
    "# Melhores valores de hiperparâmetros encontradas pelo Grid Search:\n",
    "# Best parameters.\n",
    "print(\"Best MLP Parameters: {}\".format(gs_mlp.best_params_))\n",
    "\n",
    "# Cross validation accuracy for the best parameters.\n",
    "print('Cross-validation accuracy: %0.3f' % gs_mlp.best_score_)\n",
    "\n",
    "# Accuracy: 1 is perfect prediction.\n",
    "print('Accuracy: %0.3f' % (gs_mlp.score(X_test,y_test)))\n",
    "\n",
    "# Precision\n",
    "print('Precision: %.3f' % precision_score(y_test, gs_mlp_pred))\n",
    "\n",
    "# Recall\n",
    "print('Recall: %.3f' % recall_score(y_test, gs_mlp_pred))\n",
    "\n",
    "# f1 score: best value at 1 (perfect precision and recall) and worst at 0.\n",
    "print('F1 score: %.3f' % f1_score(y_test, gs_mlp_pred))"
   ]
  },
  {
   "cell_type": "code",
   "execution_count": 15,
   "id": "b3fd976d",
   "metadata": {},
   "outputs": [
    {
     "name": "stdout",
     "output_type": "stream",
     "text": [
      "specificity: 0.950993831391364\n"
     ]
    },
    {
     "data": {
      "image/png": "[encoded data removed]",
      "text/plain": [
       "<Figure size 576x576 with 1 Axes>"
      ]
     },
     "metadata": {},
     "output_type": "display_data"
    }
   ],
   "source": [
    "# Plota a matriz de confusão para o Percpetron Multi-Camada pós Grid Search:\n",
    "matrix = confusion_matrix(y_test,gs_mlp_pred)\n",
    "plt.figure(figsize=(8,8))\n",
    "sns.heatmap(matrix,annot=True, cbar=False, cmap='twilight',linewidth=0.5,fmt=\"d\")\n",
    "plt.ylabel('True Label')\n",
    "plt.xlabel('Predicted Label')\n",
    "plt.title('Confusion Matrix for GridSearchCV MLP')\n",
    "\n",
    "#Especificidade:\n",
    "specificity = matrix[0,0]/(matrix[0,1]+matrix[0,0])\n",
    "print(f\"specificity: {specificity}\")"
   ]
  },
  {
   "cell_type": "code",
   "execution_count": 16,
   "id": "93fb5317",
   "metadata": {},
   "outputs": [
    {
     "name": "stdout",
     "output_type": "stream",
     "text": [
      "AUC: 0.77\n"
     ]
    }
   ],
   "source": [
    "# Prediz as probabilidades para a base de teste:\n",
    "gs_mlp_probs = gs_mlp.predict_proba(X_test)\n",
    "\n",
    "# Keep Probabilities of the positive class only.\n",
    "gs_mlp_probs = gs_mlp_probs[:, 1]\n",
    "\n",
    "# Compute the AUC Score.\n",
    "gs_mlp_auc = roc_auc_score(y_test, gs_mlp_probs)\n",
    "print('AUC: %.2f' % gs_mlp_auc)"
   ]
  },
  {
   "cell_type": "code",
   "execution_count": 17,
   "id": "c4197196",
   "metadata": {},
   "outputs": [
    {
     "name": "stderr",
     "output_type": "stream",
     "text": [
      "No handles with labels found to put in legend.\n"
     ]
    },
    {
     "data": {
      "image/png": "[encoded data removed]",
      "text/plain": [
       "<Figure size 576x576 with 1 Axes>"
      ]
     },
     "metadata": {},
     "output_type": "display_data"
    }
   ],
   "source": [
    "# Constrói a curva ROC:\n",
    "\n",
    "gs_mlp_fpr, gs_mlp_tpr,gs_mlp_thresholds = roc_curve(y_test, gs_mlp_probs)\n",
    "mlp_fpr, mlp_tpr, mlp_thresholds = roc_curve(y_test, mlp_probs)\n",
    "\n",
    "# Plotta a curva ROC:\n",
    "plt.figure(figsize=(8,8))\n",
    "plt.plot(mlp_fpr, mlp_tpr, color='darkblue')\n",
    "plt.plot(gs_mlp_fpr, gs_mlp_tpr, color='green')\n",
    "\n",
    "#plt.plot([0, 1], [0, 1], color='darkblue', linestyle='--',label='random')\n",
    "plt.xlabel('Taxa de Falso Positivo')\n",
    "plt.ylabel('Taxa de Verdadeiro Positivo')\n",
    "plt.title('Curva ROC - PCM')\n",
    "plt.legend()\n",
    "plt.show()"
   ]
  },
  {
   "cell_type": "code",
   "execution_count": 18,
   "id": "7b4a2537",
   "metadata": {},
   "outputs": [
    {
     "data": {
      "text/html": [
       "<div>\n",
       "<style scoped>\n",
       "    .dataframe tbody tr th:only-of-type {\n",
       "        vertical-align: middle;\n",
       "    }\n",
       "\n",
       "    .dataframe tbody tr th {\n",
       "        vertical-align: top;\n",
       "    }\n",
       "\n",
       "    .dataframe thead th {\n",
       "        text-align: right;\n",
       "    }\n",
       "</style>\n",
       "<table border=\"1\" class=\"dataframe\">\n",
       "  <thead>\n",
       "    <tr style=\"text-align: right;\">\n",
       "      <th></th>\n",
       "      <th>Accuracy</th>\n",
       "      <th>CV Accuracy</th>\n",
       "      <th>Precision</th>\n",
       "      <th>Recall</th>\n",
       "      <th>F1</th>\n",
       "      <th>ROC AUC</th>\n",
       "    </tr>\n",
       "    <tr>\n",
       "      <th></th>\n",
       "      <th></th>\n",
       "      <th></th>\n",
       "      <th></th>\n",
       "      <th></th>\n",
       "      <th></th>\n",
       "      <th></th>\n",
       "    </tr>\n",
       "  </thead>\n",
       "  <tbody>\n",
       "    <tr>\n",
       "      <th>Neural Network (MLP)</th>\n",
       "      <td>0.812</td>\n",
       "      <td>0.811</td>\n",
       "      <td>0.713</td>\n",
       "      <td>0.252</td>\n",
       "      <td>0.373</td>\n",
       "      <td>0.723</td>\n",
       "    </tr>\n",
       "    <tr>\n",
       "      <th>GridSearchCV + Neural Network (MLP)</th>\n",
       "      <td>0.820</td>\n",
       "      <td>0.820</td>\n",
       "      <td>0.674</td>\n",
       "      <td>0.357</td>\n",
       "      <td>0.467</td>\n",
       "      <td>0.774</td>\n",
       "    </tr>\n",
       "  </tbody>\n",
       "</table>\n",
       "</div>"
      ],
      "text/plain": [
       "                                     Accuracy  CV Accuracy  Precision  Recall  \\\n",
       "                                                                                \n",
       "Neural Network (MLP)                    0.812        0.811      0.713   0.252   \n",
       "GridSearchCV + Neural Network (MLP)     0.820        0.820      0.674   0.357   \n",
       "\n",
       "                                        F1  ROC AUC  \n",
       "                                                     \n",
       "Neural Network (MLP)                 0.373    0.723  \n",
       "GridSearchCV + Neural Network (MLP)  0.467    0.774  "
      ]
     },
     "execution_count": 18,
     "metadata": {},
     "output_type": "execute_result"
    }
   ],
   "source": [
    "#Resultados:\n",
    "\n",
    "#Métricas de performance:\n",
    "metrics=['Accuracy', 'CV accuracy', 'Precision','Recall','F1','ROC AUC']\n",
    "\n",
    "\n",
    "d={\n",
    "'': ['Neural Network (MLP)','GridSearchCV + Neural Network (MLP)'],\n",
    "'Accuracy': [mlp.score(X_test, y_test),gs_mlp.score(X_test, y_test)],\n",
    "'CV Accuracy': [mlp_cv,gs_mlp.best_score_], \n",
    "'Precision': [precision_score(y_test, mlp_pred),precision_score(y_test, gs_mlp_pred)],\n",
    "'Recall': [recall_score(y_test, mlp_pred),recall_score(y_test, gs_mlp_pred)],\n",
    "'F1': [f1_score(y_test, mlp_pred),f1_score(y_test, gs_mlp_pred)],\n",
    "'ROC AUC': [auc_mlp, gs_mlp_auc]\n",
    "}\n",
    "\n",
    "results=pd.DataFrame(data=d).round(3).set_index('')\n",
    "results"
   ]
  }
 ],
 "metadata": {
  "kernelspec": {
   "display_name": "Python 3 (ipykernel)",
   "language": "python",
   "name": "python3"
  },
  "language_info": {
   "codemirror_mode": {
    "name": "ipython",
    "version": 3
   },
   "file_extension": ".py",
   "mimetype": "text/x-python",
   "name": "python",
   "nbconvert_exporter": "python",
   "pygments_lexer": "ipython3",
   "version": "3.9.7"
  }
 },
 "nbformat": 4,
 "nbformat_minor": 5
}
